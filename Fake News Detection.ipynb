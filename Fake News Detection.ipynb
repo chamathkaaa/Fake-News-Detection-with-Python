{
 "cells": [
  {
   "cell_type": "markdown",
   "metadata": {},
   "source": [
    "# Fake News Detection\n",
    "\n",
    "Link to Dataset\n",
    "https://www.kaggle.com/jruvika/fake-news-detection"
   ]
  },
  {
   "cell_type": "code",
   "execution_count": 118,
   "metadata": {},
   "outputs": [],
   "source": [
    "#import libraries\n",
    "\n",
    "import pandas as pd\n",
    "import numpy as np\n",
    "import nltk\n",
    "%matplotlib inline\n",
    "import seaborn as sns\n",
    "import matplotlib.pyplot as plt\n",
    "import matplotlib\n",
    "import re\n",
    "import string\n",
    "\n",
    "from sklearn.model_selection import train_test_split"
   ]
  },
  {
   "cell_type": "markdown",
   "metadata": {},
   "source": [
    "### Read Dataset \n",
    "\n",
    "Dowload the datset from kaggle and read it here and assigned the dataset into a dataframe named df and viewed the data to have an idea."
   ]
  },
  {
   "cell_type": "code",
   "execution_count": 92,
   "metadata": {},
   "outputs": [],
   "source": [
    "#read csv file and retrieve data\n",
    "df = pd.read_csv('data.csv')"
   ]
  },
  {
   "cell_type": "code",
   "execution_count": 93,
   "metadata": {},
   "outputs": [
    {
     "data": {
      "text/html": [
       "<div>\n",
       "<style scoped>\n",
       "    .dataframe tbody tr th:only-of-type {\n",
       "        vertical-align: middle;\n",
       "    }\n",
       "\n",
       "    .dataframe tbody tr th {\n",
       "        vertical-align: top;\n",
       "    }\n",
       "\n",
       "    .dataframe thead th {\n",
       "        text-align: right;\n",
       "    }\n",
       "</style>\n",
       "<table border=\"1\" class=\"dataframe\">\n",
       "  <thead>\n",
       "    <tr style=\"text-align: right;\">\n",
       "      <th></th>\n",
       "      <th>URLs</th>\n",
       "      <th>Headline</th>\n",
       "      <th>Body</th>\n",
       "      <th>Label</th>\n",
       "    </tr>\n",
       "  </thead>\n",
       "  <tbody>\n",
       "    <tr>\n",
       "      <td>0</td>\n",
       "      <td>http://www.bbc.com/news/world-us-canada-414191...</td>\n",
       "      <td>Four ways Bob Corker skewered Donald Trump</td>\n",
       "      <td>Image copyright Getty Images\\nOn Sunday mornin...</td>\n",
       "      <td>1</td>\n",
       "    </tr>\n",
       "    <tr>\n",
       "      <td>1</td>\n",
       "      <td>https://www.reuters.com/article/us-filmfestiva...</td>\n",
       "      <td>Linklater's war veteran comedy speaks to moder...</td>\n",
       "      <td>LONDON (Reuters) - “Last Flag Flying”, a comed...</td>\n",
       "      <td>1</td>\n",
       "    </tr>\n",
       "    <tr>\n",
       "      <td>2</td>\n",
       "      <td>https://www.nytimes.com/2017/10/09/us/politics...</td>\n",
       "      <td>Trump’s Fight With Corker Jeopardizes His Legi...</td>\n",
       "      <td>The feud broke into public view last week when...</td>\n",
       "      <td>1</td>\n",
       "    </tr>\n",
       "    <tr>\n",
       "      <td>3</td>\n",
       "      <td>https://www.reuters.com/article/us-mexico-oil-...</td>\n",
       "      <td>Egypt's Cheiron wins tie-up with Pemex for Mex...</td>\n",
       "      <td>MEXICO CITY (Reuters) - Egypt’s Cheiron Holdin...</td>\n",
       "      <td>1</td>\n",
       "    </tr>\n",
       "    <tr>\n",
       "      <td>4</td>\n",
       "      <td>http://www.cnn.com/videos/cnnmoney/2017/10/08/...</td>\n",
       "      <td>Jason Aldean opens 'SNL' with Vegas tribute</td>\n",
       "      <td>Country singer Jason Aldean, who was performin...</td>\n",
       "      <td>1</td>\n",
       "    </tr>\n",
       "  </tbody>\n",
       "</table>\n",
       "</div>"
      ],
      "text/plain": [
       "                                                URLs  \\\n",
       "0  http://www.bbc.com/news/world-us-canada-414191...   \n",
       "1  https://www.reuters.com/article/us-filmfestiva...   \n",
       "2  https://www.nytimes.com/2017/10/09/us/politics...   \n",
       "3  https://www.reuters.com/article/us-mexico-oil-...   \n",
       "4  http://www.cnn.com/videos/cnnmoney/2017/10/08/...   \n",
       "\n",
       "                                            Headline  \\\n",
       "0         Four ways Bob Corker skewered Donald Trump   \n",
       "1  Linklater's war veteran comedy speaks to moder...   \n",
       "2  Trump’s Fight With Corker Jeopardizes His Legi...   \n",
       "3  Egypt's Cheiron wins tie-up with Pemex for Mex...   \n",
       "4        Jason Aldean opens 'SNL' with Vegas tribute   \n",
       "\n",
       "                                                Body  Label  \n",
       "0  Image copyright Getty Images\\nOn Sunday mornin...      1  \n",
       "1  LONDON (Reuters) - “Last Flag Flying”, a comed...      1  \n",
       "2  The feud broke into public view last week when...      1  \n",
       "3  MEXICO CITY (Reuters) - Egypt’s Cheiron Holdin...      1  \n",
       "4  Country singer Jason Aldean, who was performin...      1  "
      ]
     },
     "execution_count": 93,
     "metadata": {},
     "output_type": "execute_result"
    }
   ],
   "source": [
    "df.head()"
   ]
  },
  {
   "cell_type": "code",
   "execution_count": 94,
   "metadata": {},
   "outputs": [
    {
     "name": "stdout",
     "output_type": "stream",
     "text": [
      "(4009, 4)\n"
     ]
    }
   ],
   "source": [
    "#view rows and columns\n",
    "print(df.shape)"
   ]
  },
  {
   "cell_type": "code",
   "execution_count": 95,
   "metadata": {},
   "outputs": [],
   "source": [
    "#delete URLs column as we dont need it for the classification\n",
    "\n",
    "del df['URLs']"
   ]
  },
  {
   "cell_type": "code",
   "execution_count": 96,
   "metadata": {},
   "outputs": [
    {
     "data": {
      "text/html": [
       "<div>\n",
       "<style scoped>\n",
       "    .dataframe tbody tr th:only-of-type {\n",
       "        vertical-align: middle;\n",
       "    }\n",
       "\n",
       "    .dataframe tbody tr th {\n",
       "        vertical-align: top;\n",
       "    }\n",
       "\n",
       "    .dataframe thead th {\n",
       "        text-align: right;\n",
       "    }\n",
       "</style>\n",
       "<table border=\"1\" class=\"dataframe\">\n",
       "  <thead>\n",
       "    <tr style=\"text-align: right;\">\n",
       "      <th></th>\n",
       "      <th>Headline</th>\n",
       "      <th>Body</th>\n",
       "      <th>Label</th>\n",
       "    </tr>\n",
       "  </thead>\n",
       "  <tbody>\n",
       "    <tr>\n",
       "      <td>0</td>\n",
       "      <td>Four ways Bob Corker skewered Donald Trump</td>\n",
       "      <td>Image copyright Getty Images\\nOn Sunday mornin...</td>\n",
       "      <td>1</td>\n",
       "    </tr>\n",
       "    <tr>\n",
       "      <td>1</td>\n",
       "      <td>Linklater's war veteran comedy speaks to moder...</td>\n",
       "      <td>LONDON (Reuters) - “Last Flag Flying”, a comed...</td>\n",
       "      <td>1</td>\n",
       "    </tr>\n",
       "    <tr>\n",
       "      <td>2</td>\n",
       "      <td>Trump’s Fight With Corker Jeopardizes His Legi...</td>\n",
       "      <td>The feud broke into public view last week when...</td>\n",
       "      <td>1</td>\n",
       "    </tr>\n",
       "    <tr>\n",
       "      <td>3</td>\n",
       "      <td>Egypt's Cheiron wins tie-up with Pemex for Mex...</td>\n",
       "      <td>MEXICO CITY (Reuters) - Egypt’s Cheiron Holdin...</td>\n",
       "      <td>1</td>\n",
       "    </tr>\n",
       "    <tr>\n",
       "      <td>4</td>\n",
       "      <td>Jason Aldean opens 'SNL' with Vegas tribute</td>\n",
       "      <td>Country singer Jason Aldean, who was performin...</td>\n",
       "      <td>1</td>\n",
       "    </tr>\n",
       "  </tbody>\n",
       "</table>\n",
       "</div>"
      ],
      "text/plain": [
       "                                            Headline  \\\n",
       "0         Four ways Bob Corker skewered Donald Trump   \n",
       "1  Linklater's war veteran comedy speaks to moder...   \n",
       "2  Trump’s Fight With Corker Jeopardizes His Legi...   \n",
       "3  Egypt's Cheiron wins tie-up with Pemex for Mex...   \n",
       "4        Jason Aldean opens 'SNL' with Vegas tribute   \n",
       "\n",
       "                                                Body  Label  \n",
       "0  Image copyright Getty Images\\nOn Sunday mornin...      1  \n",
       "1  LONDON (Reuters) - “Last Flag Flying”, a comed...      1  \n",
       "2  The feud broke into public view last week when...      1  \n",
       "3  MEXICO CITY (Reuters) - Egypt’s Cheiron Holdin...      1  \n",
       "4  Country singer Jason Aldean, who was performin...      1  "
      ]
     },
     "execution_count": 96,
     "metadata": {},
     "output_type": "execute_result"
    }
   ],
   "source": [
    "df.head()"
   ]
  },
  {
   "cell_type": "markdown",
   "metadata": {},
   "source": [
    "### Combine Headline and Body columns\n",
    "\n",
    "A news article has 2 sections as Headline and Body. In this dataset Headline and the Body are in 2 separated columns. So we combined those 2 columns (Headline column and Body column) into 1 column and named it as Headline_Body."
   ]
  },
  {
   "cell_type": "code",
   "execution_count": 97,
   "metadata": {},
   "outputs": [
    {
     "data": {
      "text/html": [
       "<div>\n",
       "<style scoped>\n",
       "    .dataframe tbody tr th:only-of-type {\n",
       "        vertical-align: middle;\n",
       "    }\n",
       "\n",
       "    .dataframe tbody tr th {\n",
       "        vertical-align: top;\n",
       "    }\n",
       "\n",
       "    .dataframe thead th {\n",
       "        text-align: right;\n",
       "    }\n",
       "</style>\n",
       "<table border=\"1\" class=\"dataframe\">\n",
       "  <thead>\n",
       "    <tr style=\"text-align: right;\">\n",
       "      <th></th>\n",
       "      <th>Headline</th>\n",
       "      <th>Body</th>\n",
       "      <th>Label</th>\n",
       "      <th>Headline_Body</th>\n",
       "    </tr>\n",
       "  </thead>\n",
       "  <tbody>\n",
       "    <tr>\n",
       "      <td>0</td>\n",
       "      <td>Four ways Bob Corker skewered Donald Trump</td>\n",
       "      <td>Image copyright Getty Images\\nOn Sunday mornin...</td>\n",
       "      <td>1</td>\n",
       "      <td>Four ways Bob Corker skewered Donald Trump Ima...</td>\n",
       "    </tr>\n",
       "    <tr>\n",
       "      <td>1</td>\n",
       "      <td>Linklater's war veteran comedy speaks to moder...</td>\n",
       "      <td>LONDON (Reuters) - “Last Flag Flying”, a comed...</td>\n",
       "      <td>1</td>\n",
       "      <td>Linklater's war veteran comedy speaks to moder...</td>\n",
       "    </tr>\n",
       "    <tr>\n",
       "      <td>2</td>\n",
       "      <td>Trump’s Fight With Corker Jeopardizes His Legi...</td>\n",
       "      <td>The feud broke into public view last week when...</td>\n",
       "      <td>1</td>\n",
       "      <td>Trump’s Fight With Corker Jeopardizes His Legi...</td>\n",
       "    </tr>\n",
       "    <tr>\n",
       "      <td>3</td>\n",
       "      <td>Egypt's Cheiron wins tie-up with Pemex for Mex...</td>\n",
       "      <td>MEXICO CITY (Reuters) - Egypt’s Cheiron Holdin...</td>\n",
       "      <td>1</td>\n",
       "      <td>Egypt's Cheiron wins tie-up with Pemex for Mex...</td>\n",
       "    </tr>\n",
       "    <tr>\n",
       "      <td>4</td>\n",
       "      <td>Jason Aldean opens 'SNL' with Vegas tribute</td>\n",
       "      <td>Country singer Jason Aldean, who was performin...</td>\n",
       "      <td>1</td>\n",
       "      <td>Jason Aldean opens 'SNL' with Vegas tribute Co...</td>\n",
       "    </tr>\n",
       "    <tr>\n",
       "      <td>...</td>\n",
       "      <td>...</td>\n",
       "      <td>...</td>\n",
       "      <td>...</td>\n",
       "      <td>...</td>\n",
       "    </tr>\n",
       "    <tr>\n",
       "      <td>4004</td>\n",
       "      <td>Trends to Watch</td>\n",
       "      <td>Trends to Watch\\n% of readers think this story...</td>\n",
       "      <td>0</td>\n",
       "      <td>Trends to Watch Trends to Watch\\n% of readers ...</td>\n",
       "    </tr>\n",
       "    <tr>\n",
       "      <td>4005</td>\n",
       "      <td>Trump Jr. Is Soon To Give A 30-Minute Speech F...</td>\n",
       "      <td>Trump Jr. Is Soon To Give A 30-Minute Speech F...</td>\n",
       "      <td>0</td>\n",
       "      <td>Trump Jr. Is Soon To Give A 30-Minute Speech F...</td>\n",
       "    </tr>\n",
       "    <tr>\n",
       "      <td>4006</td>\n",
       "      <td>Ron Paul on Trump, Anarchism &amp; the AltRight</td>\n",
       "      <td>NaN</td>\n",
       "      <td>0</td>\n",
       "      <td>NaN</td>\n",
       "    </tr>\n",
       "    <tr>\n",
       "      <td>4007</td>\n",
       "      <td>China to accept overseas trial data in bid to ...</td>\n",
       "      <td>SHANGHAI (Reuters) - China said it plans to ac...</td>\n",
       "      <td>1</td>\n",
       "      <td>China to accept overseas trial data in bid to ...</td>\n",
       "    </tr>\n",
       "    <tr>\n",
       "      <td>4008</td>\n",
       "      <td>Vice President Mike Pence Leaves NFL Game Beca...</td>\n",
       "      <td>Vice President Mike Pence Leaves NFL Game Beca...</td>\n",
       "      <td>0</td>\n",
       "      <td>Vice President Mike Pence Leaves NFL Game Beca...</td>\n",
       "    </tr>\n",
       "  </tbody>\n",
       "</table>\n",
       "<p>4009 rows × 4 columns</p>\n",
       "</div>"
      ],
      "text/plain": [
       "                                               Headline  \\\n",
       "0            Four ways Bob Corker skewered Donald Trump   \n",
       "1     Linklater's war veteran comedy speaks to moder...   \n",
       "2     Trump’s Fight With Corker Jeopardizes His Legi...   \n",
       "3     Egypt's Cheiron wins tie-up with Pemex for Mex...   \n",
       "4           Jason Aldean opens 'SNL' with Vegas tribute   \n",
       "...                                                 ...   \n",
       "4004                                    Trends to Watch   \n",
       "4005  Trump Jr. Is Soon To Give A 30-Minute Speech F...   \n",
       "4006        Ron Paul on Trump, Anarchism & the AltRight   \n",
       "4007  China to accept overseas trial data in bid to ...   \n",
       "4008  Vice President Mike Pence Leaves NFL Game Beca...   \n",
       "\n",
       "                                                   Body  Label  \\\n",
       "0     Image copyright Getty Images\\nOn Sunday mornin...      1   \n",
       "1     LONDON (Reuters) - “Last Flag Flying”, a comed...      1   \n",
       "2     The feud broke into public view last week when...      1   \n",
       "3     MEXICO CITY (Reuters) - Egypt’s Cheiron Holdin...      1   \n",
       "4     Country singer Jason Aldean, who was performin...      1   \n",
       "...                                                 ...    ...   \n",
       "4004  Trends to Watch\\n% of readers think this story...      0   \n",
       "4005  Trump Jr. Is Soon To Give A 30-Minute Speech F...      0   \n",
       "4006                                                NaN      0   \n",
       "4007  SHANGHAI (Reuters) - China said it plans to ac...      1   \n",
       "4008  Vice President Mike Pence Leaves NFL Game Beca...      0   \n",
       "\n",
       "                                          Headline_Body  \n",
       "0     Four ways Bob Corker skewered Donald Trump Ima...  \n",
       "1     Linklater's war veteran comedy speaks to moder...  \n",
       "2     Trump’s Fight With Corker Jeopardizes His Legi...  \n",
       "3     Egypt's Cheiron wins tie-up with Pemex for Mex...  \n",
       "4     Jason Aldean opens 'SNL' with Vegas tribute Co...  \n",
       "...                                                 ...  \n",
       "4004  Trends to Watch Trends to Watch\\n% of readers ...  \n",
       "4005  Trump Jr. Is Soon To Give A 30-Minute Speech F...  \n",
       "4006                                                NaN  \n",
       "4007  China to accept overseas trial data in bid to ...  \n",
       "4008  Vice President Mike Pence Leaves NFL Game Beca...  \n",
       "\n",
       "[4009 rows x 4 columns]"
      ]
     },
     "execution_count": 97,
     "metadata": {},
     "output_type": "execute_result"
    }
   ],
   "source": [
    "#combine Headline and Body columns\n",
    "df['Headline_Body'] = df['Headline'].astype(str)+' '+df['Body']\n",
    "\n",
    "#view new dataset\n",
    "df"
   ]
  },
  {
   "cell_type": "markdown",
   "metadata": {},
   "source": [
    "### Select the columns, we are going to use\n",
    "\n",
    "Select Headline_Body and Label columns and save it to a new dataframe "
   ]
  },
  {
   "cell_type": "code",
   "execution_count": 98,
   "metadata": {},
   "outputs": [
    {
     "data": {
      "text/html": [
       "<div>\n",
       "<style scoped>\n",
       "    .dataframe tbody tr th:only-of-type {\n",
       "        vertical-align: middle;\n",
       "    }\n",
       "\n",
       "    .dataframe tbody tr th {\n",
       "        vertical-align: top;\n",
       "    }\n",
       "\n",
       "    .dataframe thead th {\n",
       "        text-align: right;\n",
       "    }\n",
       "</style>\n",
       "<table border=\"1\" class=\"dataframe\">\n",
       "  <thead>\n",
       "    <tr style=\"text-align: right;\">\n",
       "      <th></th>\n",
       "      <th>Headline_Body</th>\n",
       "      <th>Label</th>\n",
       "    </tr>\n",
       "  </thead>\n",
       "  <tbody>\n",
       "    <tr>\n",
       "      <td>0</td>\n",
       "      <td>Four ways Bob Corker skewered Donald Trump Ima...</td>\n",
       "      <td>1</td>\n",
       "    </tr>\n",
       "    <tr>\n",
       "      <td>1</td>\n",
       "      <td>Linklater's war veteran comedy speaks to moder...</td>\n",
       "      <td>1</td>\n",
       "    </tr>\n",
       "    <tr>\n",
       "      <td>2</td>\n",
       "      <td>Trump’s Fight With Corker Jeopardizes His Legi...</td>\n",
       "      <td>1</td>\n",
       "    </tr>\n",
       "    <tr>\n",
       "      <td>3</td>\n",
       "      <td>Egypt's Cheiron wins tie-up with Pemex for Mex...</td>\n",
       "      <td>1</td>\n",
       "    </tr>\n",
       "    <tr>\n",
       "      <td>4</td>\n",
       "      <td>Jason Aldean opens 'SNL' with Vegas tribute Co...</td>\n",
       "      <td>1</td>\n",
       "    </tr>\n",
       "    <tr>\n",
       "      <td>...</td>\n",
       "      <td>...</td>\n",
       "      <td>...</td>\n",
       "    </tr>\n",
       "    <tr>\n",
       "      <td>4004</td>\n",
       "      <td>Trends to Watch Trends to Watch\\n% of readers ...</td>\n",
       "      <td>0</td>\n",
       "    </tr>\n",
       "    <tr>\n",
       "      <td>4005</td>\n",
       "      <td>Trump Jr. Is Soon To Give A 30-Minute Speech F...</td>\n",
       "      <td>0</td>\n",
       "    </tr>\n",
       "    <tr>\n",
       "      <td>4006</td>\n",
       "      <td>NaN</td>\n",
       "      <td>0</td>\n",
       "    </tr>\n",
       "    <tr>\n",
       "      <td>4007</td>\n",
       "      <td>China to accept overseas trial data in bid to ...</td>\n",
       "      <td>1</td>\n",
       "    </tr>\n",
       "    <tr>\n",
       "      <td>4008</td>\n",
       "      <td>Vice President Mike Pence Leaves NFL Game Beca...</td>\n",
       "      <td>0</td>\n",
       "    </tr>\n",
       "  </tbody>\n",
       "</table>\n",
       "<p>4009 rows × 2 columns</p>\n",
       "</div>"
      ],
      "text/plain": [
       "                                          Headline_Body  Label\n",
       "0     Four ways Bob Corker skewered Donald Trump Ima...      1\n",
       "1     Linklater's war veteran comedy speaks to moder...      1\n",
       "2     Trump’s Fight With Corker Jeopardizes His Legi...      1\n",
       "3     Egypt's Cheiron wins tie-up with Pemex for Mex...      1\n",
       "4     Jason Aldean opens 'SNL' with Vegas tribute Co...      1\n",
       "...                                                 ...    ...\n",
       "4004  Trends to Watch Trends to Watch\\n% of readers ...      0\n",
       "4005  Trump Jr. Is Soon To Give A 30-Minute Speech F...      0\n",
       "4006                                                NaN      0\n",
       "4007  China to accept overseas trial data in bid to ...      1\n",
       "4008  Vice President Mike Pence Leaves NFL Game Beca...      0\n",
       "\n",
       "[4009 rows x 2 columns]"
      ]
     },
     "execution_count": 98,
     "metadata": {},
     "output_type": "execute_result"
    }
   ],
   "source": [
    "#retrieve needed columns to a dataframe\n",
    "\n",
    "data = df[[\"Headline_Body\", \"Label\"]]\n",
    "data"
   ]
  },
  {
   "cell_type": "code",
   "execution_count": 99,
   "metadata": {},
   "outputs": [
    {
     "name": "stdout",
     "output_type": "stream",
     "text": [
      "<class 'pandas.core.frame.DataFrame'>\n",
      "RangeIndex: 4009 entries, 0 to 4008\n",
      "Data columns (total 2 columns):\n",
      "Headline_Body    3988 non-null object\n",
      "Label            4009 non-null int64\n",
      "dtypes: int64(1), object(1)\n",
      "memory usage: 62.8+ KB\n"
     ]
    }
   ],
   "source": [
    "data.info()"
   ]
  },
  {
   "cell_type": "markdown",
   "metadata": {},
   "source": [
    "## Visualizing Data"
   ]
  },
  {
   "cell_type": "code",
   "execution_count": 100,
   "metadata": {},
   "outputs": [
    {
     "data": {
      "image/png": "[encoded data removed]",
      "text/plain": [
       "<Figure size 432x288 with 1 Axes>"
      ]
     },
     "metadata": {},
     "output_type": "display_data"
    }
   ],
   "source": [
    "label_count = data[\"Label\"].value_counts()\n",
    "sns.set(style=\"darkgrid\")\n",
    "sns.barplot(label_count.index, label_count.values, alpha=0.9)\n",
    "plt.title(\"Frequency of Label\")\n",
    "plt.ylabel(\"Frequency\", fontsize=8)\n",
    "plt.xlabel(\"Label\", fontsize=8)\n",
    "plt.show()"
   ]
  },
  {
   "cell_type": "code",
   "execution_count": 101,
   "metadata": {},
   "outputs": [
    {
     "data": {
      "text/plain": [
       "'Four ways Bob Corker skewered Donald Trump Image copyright Getty Images\\nOn Sunday morning, Donald Trump went off on a Twitter tirade against a member of his own party.\\nThis, in itself, isn\\'t exactly huge news. It\\'s far from the first time the president has turned his rhetorical cannons on his own ranks.\\nThis time, however, his attacks were particularly biting and personal. He essentially called Tennessee Senator Bob Corker, the chair of the powerful Senate Foreign Relations Committee, a coward for not running for re-election.\\nHe said Mr Corker \"begged\" for the president\\'s endorsement, which he refused to give. He wrongly claimed that Mr Corker\\'s support of the Iranian nuclear agreement was his only political accomplishment.\\nUnlike some of his colleagues, Mr Corker - free from having to worry about his immediate political future - didn\\'t hold his tongue.\\nSkip Twitter post by @SenBobCorker It\\'s a shame the White House has become an adult day care center. Someone obviously missed their shift this morning. — Senator Bob Corker (@SenBobCorker) October 8, 2017 Report\\nThat wasn\\'t the end of it, though. He then spoke with the New York Times and really let the president have it. Here are four choice quotes from the Tennessee senator\\'s interview with the Times and why they are particularly damning.\\n\"I don\\'t know why the president tweets out things that are not true. You know he does it, everyone knows he does it, but he does.\"\\nYou can\\'t really sugarcoat this one. Mr Corker is flat-out saying the president is a liar - and everyone knows it.\\nThe senator, in particular, is challenging Mr Trump\\'s insistence that he unsuccessfully pleaded for his endorsement, but the accusation is much broader.\\nMr Corker and the president used to be something akin to allies. The Tennessean was on Mr Trump\\'s short list for vice-president and secretary of state.\\nImage copyright Getty Images Image caption Bob Corker at Trump campaign rally in July 2016\\nThose days are seemingly very much over now - and it\\'s not like Mr Corker is going anywhere anytime soon. Although he\\'s not running for re-election, he\\'ll be in the Senate, chairing a powerful committee, until January 2019.\\nThe president\\'s margin for success in that chamber is razor-thin. If Democrats can continue to stand together in opposition, he can afford to lose only two votes out of 52 Republican senators. That\\'s why healthcare reform collapsed in July - and it could be bad news for tax efforts.\\nFrom here on out, Mr Corker isn\\'t going to do the president any favours.\\n\"Look, except for a few people, the vast majority of our caucus understands what we\\'re dealing with here.\"\\nFrustration in Congress has been growing over what Republicans feel has been the president\\'s inability to focus on advancing their agenda. Getting a sharply divided party to come together on plans to repeal Obamacare, reform taxes or boost infrastructure spending is challenging enough. Doing so when the president stirs up unrelated controversies on a seemingly daily basis makes things all the harder.\\nOne of the president\\'s gifts has been his ability to shake off negative stories by quickly moving on to a different subject. That worked brilliantly during his presidential campaign, but it\\'s less effective during the legislative slow grind.\\nImage copyright Getty Images Image caption Corker at the confirmation hearing for Secretary of State Rex Tillerson\\nFor months, Republicans in Congress have been grumbling about this in the background and among themselves. Occasionally, someone like Mr McConnell will lament that the president doesn\\'t understand how the Senate works.\\nMr Corker has now stated it loud and clear. And, what\\'s more, he says almost everyone agrees with him. They\\'ve kept silent until now because they still hope to pass conservative legislation that the president can sign or fear Mr Trump\\'s legions will back a primary challenge next year or stay home during the general election.\\nIf that calculus ever changes - if it becomes riskier to stay silent than speak out - Mr Trump will be in real trouble.\\n\"A lot of people think that there is some kind of \\'good cop, bad cop\\' act underway, but that\\'s just not true.\"\\nTime and again, Mr Trump has appeared to undercut Secretary of State Rex Tillerson and others in his administration who are attempting to use soft diplomacy to deal with a range of international crises.\\nThe war against the Taliban in Afghanistan, Iran\\'s compliance with the multinational nuclear agreement, the ongoing dispute between Qatar and its Persian Gulf neighbours, the unrest in Venezuela and, most recently, North Korea\\'s continued ballistic missile tests have all been the target of the president\\'s offhand remarks and Twitter invective.\\nSome administration defenders have said this is all a part of Mr Trump\\'s strategy - an updated version of the Nixon-era \"madman theory\", in which the president forces adversaries to give way because they fear an unpredictable US leader\\'s actions.\\nMr Corker isn\\'t buying it. There\\'s no strategy, he says, just the possibility of chaos - which he hopes Mr Trump\\'s senior advisers will be able to avoid.\\n\"I know for a fact that every single day at the White House, it\\'s a situation of trying to contain him.\"\\nThere\\'s now a growing collection of John Kelly face-palm photos that serve as a testament to the chief-of-staff\\'s reported frustration at dealing with the president.\\nMr Trump goes off-script to praise torch-bearing white nationalists at a rally in Charlottesville, and Mr Kelly is captured closing his eyes and rubbing the arch of his nose, as if attempting to stave off a migraine.\\nImage copyright Reuters Image caption White House Chief of Staff John Kelly looks on as US President Donald Trump speaks at a campaign rally\\nThe president calls North Korean leaders \"criminals\" in a speech to the United Nations, and Mr Kelly straight-up buries his face in his hands.\\nThe White House communications team is often left scrambling to try to explain or reframe an indelicate presidential \"joke\" or remark that directly contradicts what was until then the official administration line.\\nEven though Mr Kelly has brought some discipline to the West Wing staff, the president still marches to the beat of his own drum - and continues to have unfettered access to his phone\\'s Twitter app.\\nBob Corker is only the latest person - politician, journalist, sports star or celebrity - to feel the mercurial president\\'s uncontainable ire.'"
      ]
     },
     "execution_count": 101,
     "metadata": {},
     "output_type": "execute_result"
    }
   ],
   "source": [
    "#view data in Total column by idnex\n",
    "\n",
    "data['Headline_Body'][0]"
   ]
  },
  {
   "cell_type": "markdown",
   "metadata": {},
   "source": [
    "### View and remove null values\n",
    "\n",
    "For a higher accuracy we have to remove the null values. Below codes are to find out how many null values are there and to drop those vales"
   ]
  },
  {
   "cell_type": "code",
   "execution_count": 102,
   "metadata": {},
   "outputs": [
    {
     "name": "stdout",
     "output_type": "stream",
     "text": [
      "Headline_Body    21\n",
      "Label             0\n",
      "dtype: int64\n"
     ]
    }
   ],
   "source": [
    "print(data.isnull().sum())"
   ]
  },
  {
   "cell_type": "code",
   "execution_count": 103,
   "metadata": {},
   "outputs": [],
   "source": [
    "#Delete rows with null value since it's small and won't affect the dataset\n",
    "data = data.dropna(how='any',axis=0)"
   ]
  },
  {
   "cell_type": "code",
   "execution_count": 104,
   "metadata": {},
   "outputs": [
    {
     "name": "stdout",
     "output_type": "stream",
     "text": [
      "Headline_Body    0\n",
      "Label            0\n",
      "dtype: int64\n"
     ]
    }
   ],
   "source": [
    "print(data.isnull().sum())"
   ]
  },
  {
   "cell_type": "code",
   "execution_count": 105,
   "metadata": {},
   "outputs": [
    {
     "name": "stderr",
     "output_type": "stream",
     "text": [
      "C:\\Users\\Lenovo\\Anaconda3\\lib\\site-packages\\ipykernel_launcher.py:2: SettingWithCopyWarning: \n",
      "A value is trying to be set on a copy of a slice from a DataFrame.\n",
      "Try using .loc[row_indexer,col_indexer] = value instead\n",
      "\n",
      "See the caveats in the documentation: http://pandas.pydata.org/pandas-docs/stable/user_guide/indexing.html#returning-a-view-versus-a-copy\n",
      "  \n"
     ]
    }
   ],
   "source": [
    "# Covert all text as lowercase\n",
    "data['Headline_Body'] = data['Headline_Body'].str.lower()"
   ]
  },
  {
   "cell_type": "markdown",
   "metadata": {},
   "source": [
    "## Remove Special Characters"
   ]
  },
  {
   "cell_type": "code",
   "execution_count": 106,
   "metadata": {},
   "outputs": [],
   "source": [
    "#Function for Remove the tags\n",
    "def CleanTags(line): \n",
    "    c = re.compile('<.*?>')\n",
    "    cleanline = re.sub(c, ' ', line)\n",
    "    return cleanline"
   ]
  },
  {
   "cell_type": "code",
   "execution_count": 107,
   "metadata": {},
   "outputs": [],
   "source": [
    "#Function for cleaning words of punctuation or special characters\n",
    "def CleanWords(line): \n",
    "    cleanedline = re.sub(r'[?|!|\\'|\"|#]',r'',line)\n",
    "    cleaned = re.sub(r'[.|,|)|(|\\|/]',r' ',cleanedline)\n",
    "    return  cleaned"
   ]
  },
  {
   "cell_type": "code",
   "execution_count": 108,
   "metadata": {},
   "outputs": [],
   "source": [
    "i = 0\n",
    "\n",
    "#str1 = ' '\n",
    "final_string = []\n",
    "\n",
    "# Store words\n",
    "all_positive_words = [] \n",
    "all_negative_words = [] \n",
    "\n",
    "s = ''\n",
    "\n",
    "data = data.dropna(how = 'any', axis = 0)\n",
    "for sent in data['Headline_Body'].values:\n",
    "    filtered_sentence = []\n",
    "    \n",
    "    # Remove HTMl tags\n",
    "    sent = CleanTags(sent) \n",
    "    for w in sent.split():\n",
    "        for cleaned_words in CleanWords(w).split():\n",
    "            if((cleaned_words.isalpha()) & (len(cleaned_words) > 2)):    \n",
    "                if(cleaned_words.lower() not in stopW):\n",
    "                    s = (meth_Snow.stem(cleaned_words.lower())).encode('utf8')\n",
    "                    filtered_sentence.append(s)\n",
    "                    \n",
    "                    #list all words used to Fake news\n",
    "                    if (data['Label'].values)[i] == 1: \n",
    "                        all_positive_words.append(s) \n",
    "                        \n",
    "                    #list all words used to Real news\n",
    "                    if(data['Label'].values)[i] == 0:\n",
    "                        all_negative_words.append(s) \n",
    "                else:\n",
    "                    continue\n",
    "            else:\n",
    "                continue \n",
    "  \n",
    "    str1 = b\" \".join(filtered_sentence) \n",
    "    \n",
    "    str1 = str1.decode('utf-8')\n",
    "    \n",
    "    #final string of cleaned words\n",
    "    final_string.append(str1)\n",
    "    i += 1 "
   ]
  },
  {
   "cell_type": "code",
   "execution_count": 109,
   "metadata": {},
   "outputs": [
    {
     "data": {
      "text/html": [
       "<div>\n",
       "<style scoped>\n",
       "    .dataframe tbody tr th:only-of-type {\n",
       "        vertical-align: middle;\n",
       "    }\n",
       "\n",
       "    .dataframe tbody tr th {\n",
       "        vertical-align: top;\n",
       "    }\n",
       "\n",
       "    .dataframe thead th {\n",
       "        text-align: right;\n",
       "    }\n",
       "</style>\n",
       "<table border=\"1\" class=\"dataframe\">\n",
       "  <thead>\n",
       "    <tr style=\"text-align: right;\">\n",
       "      <th></th>\n",
       "      <th>Headline_Body</th>\n",
       "      <th>Label</th>\n",
       "      <th>Cleaned_Headline_Body</th>\n",
       "    </tr>\n",
       "  </thead>\n",
       "  <tbody>\n",
       "    <tr>\n",
       "      <td>0</td>\n",
       "      <td>four ways bob corker skewered donald trump ima...</td>\n",
       "      <td>1</td>\n",
       "      <td>four way bob corker skewer donald trump imag c...</td>\n",
       "    </tr>\n",
       "    <tr>\n",
       "      <td>1</td>\n",
       "      <td>linklater's war veteran comedy speaks to moder...</td>\n",
       "      <td>1</td>\n",
       "      <td>linklat war veteran comedi speak modern americ...</td>\n",
       "    </tr>\n",
       "    <tr>\n",
       "      <td>2</td>\n",
       "      <td>trump’s fight with corker jeopardizes his legi...</td>\n",
       "      <td>1</td>\n",
       "      <td>fight corker jeopard legisl agenda feud broke ...</td>\n",
       "    </tr>\n",
       "    <tr>\n",
       "      <td>3</td>\n",
       "      <td>egypt's cheiron wins tie-up with pemex for mex...</td>\n",
       "      <td>1</td>\n",
       "      <td>egypt cheiron win pemex mexican onshor oil fie...</td>\n",
       "    </tr>\n",
       "    <tr>\n",
       "      <td>4</td>\n",
       "      <td>jason aldean opens 'snl' with vegas tribute co...</td>\n",
       "      <td>1</td>\n",
       "      <td>jason aldean open snl vega tribut countri sing...</td>\n",
       "    </tr>\n",
       "  </tbody>\n",
       "</table>\n",
       "</div>"
      ],
      "text/plain": [
       "                                       Headline_Body  Label  \\\n",
       "0  four ways bob corker skewered donald trump ima...      1   \n",
       "1  linklater's war veteran comedy speaks to moder...      1   \n",
       "2  trump’s fight with corker jeopardizes his legi...      1   \n",
       "3  egypt's cheiron wins tie-up with pemex for mex...      1   \n",
       "4  jason aldean opens 'snl' with vegas tribute co...      1   \n",
       "\n",
       "                               Cleaned_Headline_Body  \n",
       "0  four way bob corker skewer donald trump imag c...  \n",
       "1  linklat war veteran comedi speak modern americ...  \n",
       "2  fight corker jeopard legisl agenda feud broke ...  \n",
       "3  egypt cheiron win pemex mexican onshor oil fie...  \n",
       "4  jason aldean open snl vega tribut countri sing...  "
      ]
     },
     "execution_count": 109,
     "metadata": {},
     "output_type": "execute_result"
    }
   ],
   "source": [
    "data['Cleaned_Headline_Body'] = final_string\n",
    "data.head()"
   ]
  },
  {
   "cell_type": "code",
   "execution_count": 110,
   "metadata": {},
   "outputs": [
    {
     "data": {
      "text/plain": [
       "'four way bob corker skewer donald trump imag copyright getti imag sunday morn donald trump went twitter tirad member parti isnt exact huge news far first time presid turn rhetor cannon rank time howev attack particular bite person essenti call tennesse senat bob corker chair power senat foreign relat committe coward run said corker beg presid endors refus give wrong claim corker support iranian nuclear agreement polit accomplish unlik colleagu corker free worri immedi polit futur didnt hold tongu skip twitter post shame white hous becom adult day care center someon obvious miss shift morn senat bob corker octob report wasnt end though spoke new york time realli let presid four choic quot tennesse senat interview time particular damn dont know presid tweet thing true know everyon know cant realli sugarcoat one corker say presid liar everyon know senat particular challeng trump insist unsuccess plead endors accus much broader corker presid use someth akin alli tennessean trump short list secretari state imag copyright getti imag imag caption bob corker trump campaign ralli juli day seem much like corker go anywher anytim soon although hes run hell senat chair power committe januari presid margin success chamber democrat continu stand togeth opposit afford lose two vote republican senat that healthcar reform collaps juli could bad news tax effort corker isnt go presid favour look except peopl vast major caucus understand deal frustrat congress grow republican feel presid inabl focus advanc agenda get sharpli divid parti come togeth plan repeal obamacar reform tax boost infrastructur spend challeng enough presid stir unrel controversi seem daili basi make thing harder one presid gift abil shake negat stori quick move differ subject work brilliant presidenti campaign less effect legisl slow grind imag copyright getti imag imag caption corker confirm hear secretari state rex tillerson month republican congress grumbl background among occasion someon like mcconnel lament presid doesnt understand senat work corker state loud clear what say almost everyon agre theyv kept silent still hope pass conserv legisl presid sign fear trump legion back primari challeng next year stay home general elect calculus ever chang becom riskier stay silent speak trump real troubl lot peopl think kind good cop bad cop act underway that true time trump appear undercut secretari state rex tillerson other administr attempt use soft diplomaci deal rang intern crise war taliban afghanistan iran complianc multin nuclear agreement ongo disput qatar persian gulf neighbour unrest venezuela recent north korea continu ballist missil test target presid offhand remark twitter invect administr defend said part trump strategi updat version madman theori presid forc adversari give way fear unpredict leader action corker isnt buy there strategi say possibl chao hope trump senior advis abl avoid know fact everi singl day white hous situat tri contain there grow collect john kelli photo serv testament report frustrat deal presid trump goe prais white nationalist ralli charlottesvill kelli captur close eye rub arch nose attempt stave migrain imag copyright reuter imag caption white hous chief staff john kelli look presid donald trump speak campaign ralli presid call north korean leader crimin speech unit nation kelli buri face hand white hous communic team often left scrambl tri explain refram indel presidenti joke remark direct contradict offici administr line even though kelli brought disciplin west wing staff presid still march beat drum continu unfett access phone twitter app bob corker latest person politician journalist sport star celebr feel mercuri presid uncontain ire'"
      ]
     },
     "execution_count": 110,
     "metadata": {},
     "output_type": "execute_result"
    }
   ],
   "source": [
    "data['Cleaned_Headline_Body'][0]"
   ]
  },
  {
   "cell_type": "markdown",
   "metadata": {},
   "source": [
    "### Divide dataset into training and testing sets"
   ]
  },
  {
   "cell_type": "code",
   "execution_count": 116,
   "metadata": {},
   "outputs": [],
   "source": [
    "x1 = np.asarray(data['Cleaned_Headline_Body'])\n",
    "y1 = np.asarray(data['Label'])"
   ]
  },
  {
   "cell_type": "code",
   "execution_count": 119,
   "metadata": {},
   "outputs": [],
   "source": [
    "x_train, x_test, y_train, y_test = train_test_split(x1, y1, test_size=0.2, random_state = 0)"
   ]
  },
  {
   "cell_type": "code",
   "execution_count": 123,
   "metadata": {},
   "outputs": [
    {
     "data": {
      "text/plain": [
       "array(['cut embassi staff warn travel cuba cut embassi staff warn travel cuba reader think stori fact add two cent news cdn www conservativedailynew com rich mitchel depart state pull major diplomat personnel american embassi havana warn american visit cuba least citizen station mysteri injur state depart send staff cuba leav halt visa process depart also issu travel warn urg american stay away carribean island nation fear could becom target attack happen hotel injuri result depart offici refer rang hear loss cognit issu sleep disord offici blame neurolog symptom express affect cuba deni anyth attack almost year first complaint investig unabl determin caus injuri cuban foreign minist bruno rodriguez met secretari state rex tillerson tuesday told cuban respons safeti peopl reduct staf come pivot time cuba raul castro expect step leader current term end earli canadian diplomat report suffer similar health problem articl cut embassi staff warn travel cuba origin content conserv daili news cdn www conservativedailynew com www conservativedailynew com',\n",
       "       'new york shake shack test robot personnel blow minimum wage new york shake shack test robot personnel blow minimum wage news cdn www conservativedailynew com donn marten crackpot berni sander becom polit forc among young uneduc unskil american like candi man promis free stuff free colleg tuition free health insur socialist benni someon inevit pay bolshevik one popular crusad socialist left push nation hour minimum wage unit burger flipper world berni fellow con artist democrat parti fail tell young dupe govern mandat hour job could get train monkey accur eventu end lose end employ cut staf rais price accommod higher wage compani cut edg look elimin need worker entir increas autom introduct robot local fast food emporium one exampl shake shack obama biden lunch shake shack pic twitter com jeff mason may restaur articl new york shake shack test robot personnel blow minimum wage origin content conserv daili news cdn www conservativedailynew com www conservativedailynew com',\n",
       "       'las vega incred back stori design cover shock patsi stephen paddock set mass murder news millennium report import news world today emigr still learn patsi stephen paddock set mass murder capston illuminati eye lit atop luxor resort pyramid locat right next mandalay bay harvest concert mass shoot mandalay bay resort set anoth type oper gone bad worst state nation offici narrat make sens fed choic saw either stephen paddock fbi agent govern contractor along lot innoc goer veteran intellig analyst good reason stephen paddock stori make sens whatsoev make sens whatsoev anyon anywher truli offici stori happen las vega unravel quicker cat play ball dictionari com stephen paddock govern agent first understand patsi stephen paddock employ ir agent defens auditor postal mail carrier obvious drawn govern servic stephen paddock ir agent defens auditor mainstream media explan exact paddock preoccupi past mani year gambler travel high sea perfect alibi realli serious agent deep state alreadi know deep state elimin various agent take commiss give new ident whenev necessari key point paddock chosen patsi good reason eventu reveal special primari signatur fals flag oper whether stage attack transpar hoax immedi identif patsi also known lone gunman lone wolf even know imposs law enforc make quick determin actual perpetr declar individu act complet alon crime scene even fulli investig total ridicul implaus disingenu yes realli think stupid also crucial necess fix blame squar one culprit close possibl greater conspiraci work true perp whatev necessari found alway pick patsi run matter farfetch flimsi offici narrat fashion mock margin conspiraci theorist conspiraci realist intuit know deep wide crimin conspiraci could execut complex oper las vega fals flag import truth seeker understand coverup conspiraci silenc end bigger crime deep state get behind stori god help one leav reserv polit correct offici narrat full hole btw bullet hole narrat creat set paddock worst mass murder histori full hole must good explan fbi appar anoth fast furious fiasco deal need put bed quick exact detail scheme like never known howev follow explan probabl come close may happen paddock far fbi awar stephen paddock out undercov arm dealer involv run entrap scheme similar fast everyth case scream innoc singl shred evid would ever commit heinous crime incredul robust defens particular compel brother las vega suspect say paddock lot gun hotel room mandalay resort reloc arsenal hotel room clear purpos could conduct foreknowledg hotel manag fbi insid know gambl casino often use manner multipl player appli common sens littl intuit analyz crazi saga show simpli bad deal gone least one level stephen paddock found right middl lee harvey oswald dalla novemb brother express mani peopl stephen paddock absolut noth terrorist event realli respons appear anoth one fals flag within fals flag peopl know central intellig agenc implement black oper strict basi high compartment fashion structur enabl run simultan various fals flag appear oper cross purpos way top complet buffer multipl level intrigu well layer machin within purpos design run fals flag within fals flag togeth hoax becom near imposs make sens end day howev tptb want everyon know offici narrat incred could happen would see upcom part seri key whenev power elit realli desper simpli ring compani langley aka headquart spook pull shelf fals flag oper liter readi execut particular type product servic often perfect engin intend henc lot kink imperfect rememb senseless inscrut san bernardino kill occur right midst russia expos obama administr creat fund arm isi black also pull shelf moment great need nwo cabal chang global convers san bernardino fals flag within fals flag patriot versus globalist even israel signal hand psyop cours psyop aspect promin intellig communiti also deepli involv fbi cia isi arm traffick involv crazi affair las vega mpd clark counti depart israel nation news reshet bet radio report american muslim samir las vega shooter deep state lot problem right distract american peopl paramount import stage shock horrif massacr gambl capit world las vega certain divert attent sever ongo debacl las vega mass fals flag psyop black distract agent deep state whose job make sure select social media util pass word las vega around need know well advanc surreptiti use social network effici dissemin secret messag standard oper procedur mani year intel communiti youtub perfect predict las vega week incid back stori critic point paddock idea use main charact largest mass casualti event american histori terror attack tptb realli stage mass shoot las vega pray tell las vega right front luxor resort pyramidand eye illuminati esoterica associ las vega mass shoot forget took place harvest countri music festiv hebrew fall feast day yom kippur known day aton yom kippur holiest day year jew day year high priest alon perform daili offer sacrific addit special sacrific day aton crimin mastermind behind obvious fals flag terror oper cabal las vega black perpetr usual suspect deepli hidden plot las vega slaughter specif reason relat preced link whenev headlin read follow alway precis aim behind mass shoot least kill injur shooter open fire las vega concert might hidden purpos first peopl die plus injur grave wound allow mani even though die could transport fastidi control locat hospit kill sacrif happen shock pari terror attack prior sign pari climat agreement appar need group sacrific histor event well continu read',\n",
       "       ...,\n",
       "       'briton want may lead brexit process reuter six peopl want british prime minist theresa may remain posit brexit process complet orb poll telegraph show monday poll carri weekend follow speech conserv annual confer found percent voter agre prime minist stay least brexit negoti complet march one five survey voter thought foreign secretari bori johnson would make better replac may bid reassert dwindl author seem stymi last week speech interrupt repeat cough fit prankster even letter slogan fall set behind speech come month june snap elect saw parti lose major parliament day open formal brexit talk european union howev sharp contrast orb poll telegraph publish monday show percent voter thought may fit percent disagre statement support conserv parti current run percent opinion poll newspap said last week may actual support prankster leadership challeng set failur nasti cough seem come public ralli somewhat defer johnni heald spokesman pollster orb intern told telegraph correct number peopl survey paragraph',\n",
       "       'madagascar plagu kill amid unusu rapid rise case madagascar plagu kill amid unusu rapid rise case reader think stori fact add two cent news overal risk spread nation level high said statement www carbon news',\n",
       "       'seek monopol cyberwarfar ulson gunnar use inform enhanc martial power goe back begin human civil propaganda psycholog warfar went sling arrow sword shield recent iter take form social media cyberwarfar tool develop deploy influenc popul home abroad manipul polit process foreign state even tap exploit global econom forc begin centuri unit state held uncontest monopoli tool cyberwarfar today chang quick present increas balanc cyberscap nation abl defend near pariti abil attack reassert control inform technolog use broker jare cohen current googl employe former state depart staff propos domin framework regard cyberconflict new york time titl prevent cyberwar begin admit pretext use expand control cyberwarfar baseless note interfer america elect remain unclear regardless cohen continu lay plan reassert american control cyberwarfar anyway cyberweapon away spread control instead done destruct technolog world need establish set principl determin proper conduct govern regard cyberconflict would dictat proper attribut cyberattack know confid respons would guid countri respond cohen unsurpris nomin lead direct unit state uniqu posit lead effort point world toward goal enforc cyberwarfar treati mani institut would instrument inform principl base unit state includ research univers technolog industri part effort would involv lead exampl unit state establish defend free open internet everywher cohen never explain framework differ exist framework regard convent warfar regular abus justifi grow collect devast conflict wage worldwid repeat document unit definit open internet internet domin tech compani seek enhanc expand interest global cohen iron note cyberweapon alreadi use govern interfer elect steal billion dollar harm critic infrastructur censor press manipul public convers crucial issu harass dissid journalist intens cyberconflict around world increas tool becom cheaper readili avail inde cyberweapon alreadi use primarili unit state jare cohen direct involv joint oper googl facebook state depart number tech media enterpris set stage spring includ train fund equip activist year ahead upris well activ particip upris includ provid assist protest milit everywher libya syria overthrow govern target washington regim chang one tool use effort describ independ articl titl plan help syrian rebel bring assad regim leak hillari clinton email claim would report interact tool creat googl design encourag syrian rebel help bring assad regim hillari leak email report reveal track map defect within syrian leadership report design encourag peopl defect rebel opposit articl would continu mention jare cohen email detail defect tracker purport came jare cohen clinton advisor jigsaw former known googl idea new polici think tank free stormproof waterproof surviv match kit juli email member team wikileak releas alleg later forward secretari state cohen report team plan launch tool sunday public track map defect syria part govern come would recent propos prevent unit use cyberweapon sovereign state undermin sociopolit stabil overturn entir govern plung endur chao mani still remain year later like cohen interest repres truli concern nation abl recogn prepar defend cyberwarfar may capabl retali propos intern framework govern cyberwarfar simpli seek defin term leav uncontest monopoli cyberwarfar well mean wield global absolut impun would unlik current framework use govern conflict nation use justifi expans global campaign extraterritori war stretch north africa central asia beyond framework becom enabl injustic deterr nation iran north korea discov true mean defend oneself foreign militari aggress creat plausibl deterr dissuad foreign nation attack done creat price attack invad higher perceiv benefit nation like russia china alreadi achiev balanc unit state term convent nuclear warfar near establish similar deterr term cyber inform warfar rest world develop cyberdefens cost convent militari nuclear arsenal make cyberwarfar corner battlefield unlik monopol done turn centuri ensur singl nation ever opportun abus monopoli mean expos confront effort like jare cohen propos cyberwarfar resembl sort enabl unit nation provid term prolifer convent conflict across globe ulson gunnar new geopolit analyst writer especi onlin magazin eastern articl first appear'],\n",
       "      dtype=object)"
      ]
     },
     "execution_count": 123,
     "metadata": {},
     "output_type": "execute_result"
    }
   ],
   "source": [
    "x_train"
   ]
  },
  {
   "cell_type": "markdown",
   "metadata": {},
   "source": [
    "### Vectorize Tokens"
   ]
  },
  {
   "cell_type": "code",
   "execution_count": 120,
   "metadata": {},
   "outputs": [],
   "source": [
    "#import libraries to Convert the tokens into tf-idf weights and \n",
    "#then normalize the term vectors\n",
    "\n",
    "from sklearn.feature_extraction.text import TfidfTransformer\n",
    "from sklearn.feature_extraction.text import TfidfVectorizer"
   ]
  },
  {
   "cell_type": "code",
   "execution_count": 125,
   "metadata": {},
   "outputs": [],
   "source": [
    "#vectorize\n",
    "tf_idf_Vector = TfidfVectorizer()\n",
    "\n",
    "## fitting with train_x set\n",
    "tf_idf_TrainSet = tf_idf_Vector.fit_transform(x_train)\n",
    "tf_idf_TestSet = tf_idf_Vector.transform(x_test)"
   ]
  },
  {
   "cell_type": "code",
   "execution_count": null,
   "metadata": {},
   "outputs": [],
   "source": []
  }
 ],
 "metadata": {
  "kernelspec": {
   "display_name": "Python 3",
   "language": "python",
   "name": "python3"
  },
  "language_info": {
   "codemirror_mode": {
    "name": "ipython",
    "version": 3
   },
   "file_extension": ".py",
   "mimetype": "text/x-python",
   "name": "python",
   "nbconvert_exporter": "python",
   "pygments_lexer": "ipython3",
   "version": "3.7.4"
  }
 },
 "nbformat": 4,
 "nbformat_minor": 2
}
